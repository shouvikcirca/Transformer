{
 "cells": [
  {
   "cell_type": "code",
   "execution_count": 1,
   "metadata": {},
   "outputs": [],
   "source": [
    "import torch \n",
    "import torch.nn as nn\n",
    "import fasttext as ft\n",
    "import math"
   ]
  },
  {
   "cell_type": "code",
   "execution_count": null,
   "metadata": {},
   "outputs": [],
   "source": [
    "# ! wget https://dl.fbaipublicfiles.com/fasttext/vectors-crawl/cc.en.300.bin.gz -P {path}\n",
    "! wget -c https://dl.fbaipublicfiles.com/fasttext/vectors-crawl/cc.fr.300.bin.gz\n",
    "# !gunzip cc.en.300.bin cc.en.300.bin.gz\n",
    "!gunzip cc.fr.300.bin cc.fr.300.bin.gz"
   ]
  },
  {
   "cell_type": "code",
   "execution_count": null,
   "metadata": {},
   "outputs": [],
   "source": [
    "en = ft.load_model(str('cc.en.300.bin'))\n",
    "fr = ft.load_model(str('cc.fr.300.bin'))"
   ]
  },
  {
   "cell_type": "markdown",
   "metadata": {},
   "source": [
    "# New Implementation"
   ]
  },
  {
   "cell_type": "code",
   "execution_count": 2,
   "metadata": {},
   "outputs": [],
   "source": [
    "d_model = 5"
   ]
  },
  {
   "cell_type": "code",
   "execution_count": 111,
   "metadata": {},
   "outputs": [],
   "source": [
    "def getWordVectors(sentence):\n",
    "    sentence = sentence.split(' ')\n",
    "    vecs = torch.rand((len(sentence),d_model))\n",
    "    return vecs"
   ]
  },
  {
   "cell_type": "code",
   "execution_count": 112,
   "metadata": {},
   "outputs": [],
   "source": [
    "def PositionalEncoding(wordVecs):\n",
    "    for pos in range(wordVecs.shape[0]):\n",
    "        for i in range(wordVecs[pos].shape[0]):\n",
    "            if i%2 == 0:\n",
    "                wordVecs[pos][i] = wordVecs[pos][i] + math.sin(pos/(10000**(2*i/d_model)))\n",
    "            else:\n",
    "                wordVecs[pos][i] = wordVecs[pos][i] + math.cos(pos/(10000**(2*i/d_model)))\n",
    "                \n",
    "    return wordVecs\n",
    "                                           "
   ]
  },
  {
   "cell_type": "code",
   "execution_count": 113,
   "metadata": {},
   "outputs": [],
   "source": [
    "def get_qkv_weights(r,c):\n",
    "    query_weights = torch.rand((r,c))\n",
    "    key_weights = torch.rand((r,c))\n",
    "    value_weights = torch.rand((r,c))\n",
    "    return query_weights, key_weights, value_weights\n",
    "    "
   ]
  },
  {
   "cell_type": "code",
   "execution_count": 114,
   "metadata": {},
   "outputs": [],
   "source": [
    "def qkvs(vectorMatrix, new_dim):\n",
    "    \n",
    "    query_weights, key_weights, value_weights = get_qkv_weights(5,new_dim)\n",
    "    \n",
    "    return torch.matmul(vectorMatrix, query_weights), torch.matmul(vectorMatrix, key_weights), \\\n",
    "    torch.matmul(vectorMatrix, value_weights) "
   ]
  },
  {
   "cell_type": "code",
   "execution_count": 115,
   "metadata": {},
   "outputs": [],
   "source": [
    "def qk_dotproducts(queries, keys):\n",
    "    dotproduct_matrix = torch.Tensor([])\n",
    "    for i in queries:\n",
    "        dotproduct_vector = torch.Tensor([])\n",
    "        for j in keys:\n",
    "            dotproduct_vector = torch.cat([dotproduct_vector, torch.dot(i,j).reshape(-1)])\n",
    "        dotproduct_matrix = torch.cat([dotproduct_matrix, dotproduct_vector.reshape(1,-1)])\n",
    "     \n",
    "    return dotproduct_matrix"
   ]
  },
  {
   "cell_type": "code",
   "execution_count": null,
   "metadata": {},
   "outputs": [],
   "source": [
    "'''\n",
    "wordVecs = getWordVectors('Hi there this is nuts')\n",
    "pos_encoded = PositionalEncoding(wordVecs)\n",
    "\n",
    "new_dim = 3\n",
    "queries, keys, values = qkvs(pos_encoded, new_dim)\n",
    "qk_dotproductmatrix = qk_dotproducts(queries, keys)\n",
    "\n",
    "\n",
    "'''"
   ]
  },
  {
   "cell_type": "code",
   "execution_count": 116,
   "metadata": {},
   "outputs": [],
   "source": [
    "wordVecs = getWordVectors('Hi there this is nuts')\n",
    "# wordVecs"
   ]
  },
  {
   "cell_type": "code",
   "execution_count": 117,
   "metadata": {},
   "outputs": [],
   "source": [
    "pos_encoded = PositionalEncoding(wordVecs)\n",
    "# pos_encoded"
   ]
  },
  {
   "cell_type": "code",
   "execution_count": 118,
   "metadata": {},
   "outputs": [],
   "source": [
    "new_dim = 3\n",
    "queries, keys, values = qkvs(pos_encoded, new_dim)"
   ]
  },
  {
   "cell_type": "code",
   "execution_count": 119,
   "metadata": {},
   "outputs": [],
   "source": [
    "qk_dotproductmatrix = qk_dotproducts(queries, keys)"
   ]
  },
  {
   "cell_type": "code",
   "execution_count": 120,
   "metadata": {},
   "outputs": [
    {
     "data": {
      "text/plain": [
       "tensor([[1.9581, 1.4281, 2.6495],\n",
       "        [2.5119, 1.1949, 2.5609],\n",
       "        [2.5344, 1.4749, 2.8377],\n",
       "        [2.2804, 1.1585, 2.7134],\n",
       "        [1.1326, 0.5787, 1.7512]])"
      ]
     },
     "execution_count": 120,
     "metadata": {},
     "output_type": "execute_result"
    }
   ],
   "source": [
    "queries"
   ]
  },
  {
   "cell_type": "code",
   "execution_count": 121,
   "metadata": {},
   "outputs": [
    {
     "data": {
      "text/plain": [
       "tensor([[4.1901, 1.6701, 2.2903],\n",
       "        [3.4275, 2.0660, 2.3883],\n",
       "        [4.0120, 1.9227, 2.8416],\n",
       "        [3.7320, 2.1417, 2.4647],\n",
       "        [2.7755, 1.2663, 1.6849]])"
      ]
     },
     "execution_count": 121,
     "metadata": {},
     "output_type": "execute_result"
    }
   ],
   "source": [
    "keys"
   ]
  },
  {
   "cell_type": "code",
   "execution_count": 122,
   "metadata": {},
   "outputs": [
    {
     "data": {
      "text/plain": [
       "tensor([[16.6581, 15.9901, 18.1307, 16.8966, 11.7073],\n",
       "        [18.3860, 17.1947, 19.6522, 18.2454, 12.7997],\n",
       "        [19.5820, 18.5115, 21.0675, 19.6114, 13.6832],\n",
       "        [17.7044, 16.6902, 19.0867, 17.6793, 12.3680],\n",
       "        [ 9.7232,  9.2603, 10.6330,  9.7826,  6.8270]])"
      ]
     },
     "execution_count": 122,
     "metadata": {},
     "output_type": "execute_result"
    }
   ],
   "source": [
    "qk_dotproductmatrix"
   ]
  }
 ],
 "metadata": {
  "kernelspec": {
   "display_name": "Python 3",
   "language": "python",
   "name": "python3"
  },
  "language_info": {
   "codemirror_mode": {
    "name": "ipython",
    "version": 3
   },
   "file_extension": ".py",
   "mimetype": "text/x-python",
   "name": "python",
   "nbconvert_exporter": "python",
   "pygments_lexer": "ipython3",
   "version": "3.6.9"
  }
 },
 "nbformat": 4,
 "nbformat_minor": 4
}
