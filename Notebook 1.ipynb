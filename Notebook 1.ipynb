{
 "cells": [
  {
   "cell_type": "code",
   "execution_count": 1,
   "metadata": {},
   "outputs": [],
   "source": [
    "import torch \n",
    "import torch.nn as nn\n",
    "import fasttext as ft\n",
    "import math"
   ]
  },
  {
   "cell_type": "code",
   "execution_count": null,
   "metadata": {},
   "outputs": [],
   "source": [
    "# ! wget https://dl.fbaipublicfiles.com/fasttext/vectors-crawl/cc.en.300.bin.gz -P {path}\n",
    "! wget -c https://dl.fbaipublicfiles.com/fasttext/vectors-crawl/cc.fr.300.bin.gz\n",
    "# !gunzip cc.en.300.bin cc.en.300.bin.gz\n",
    "!gunzip cc.fr.300.bin cc.fr.300.bin.gz"
   ]
  },
  {
   "cell_type": "code",
   "execution_count": null,
   "metadata": {},
   "outputs": [],
   "source": [
    "en = ft.load_model(str('cc.en.300.bin'))\n",
    "fr = ft.load_model(str('cc.fr.300.bin'))"
   ]
  },
  {
   "cell_type": "markdown",
   "metadata": {},
   "source": [
    "# Creating the Methods"
   ]
  },
  {
   "cell_type": "code",
   "execution_count": 38,
   "metadata": {},
   "outputs": [],
   "source": [
    "d_model = 10 #dimension of word embedding\n",
    "new_dim = 5"
   ]
  },
  {
   "cell_type": "code",
   "execution_count": 39,
   "metadata": {},
   "outputs": [],
   "source": [
    "def getWordVectors(sentence):\n",
    "    sentence = sentence.split(' ')\n",
    "    vecs = torch.rand((len(sentence),d_model))\n",
    "    return vecs"
   ]
  },
  {
   "cell_type": "code",
   "execution_count": 40,
   "metadata": {},
   "outputs": [],
   "source": [
    "def PositionalEncoding(wordVecs):\n",
    "    for pos in range(wordVecs.shape[0]):\n",
    "        for i in range(wordVecs[pos].shape[0]):\n",
    "            if i%2 == 0:\n",
    "                wordVecs[pos][i] = wordVecs[pos][i] + math.sin(pos/(10000**(2*i/d_model)))\n",
    "            else:\n",
    "                wordVecs[pos][i] = wordVecs[pos][i] + math.cos(pos/(10000**(2*i/d_model)))\n",
    "                \n",
    "    return wordVecs\n",
    "                                           "
   ]
  },
  {
   "cell_type": "code",
   "execution_count": 41,
   "metadata": {},
   "outputs": [],
   "source": [
    "def get_qkv_weights(r,c):\n",
    "    query_weights = torch.rand((r,c))\n",
    "    key_weights = torch.rand((r,c))\n",
    "    value_weights = torch.rand((r,c))\n",
    "    return query_weights, key_weights, value_weights\n",
    "    "
   ]
  },
  {
   "cell_type": "code",
   "execution_count": 42,
   "metadata": {},
   "outputs": [],
   "source": [
    "def qkvs(vectorMatrix, new_dim):\n",
    "    \n",
    "    query_weights, key_weights, value_weights = get_qkv_weights(d_model,new_dim)\n",
    "    \n",
    "    return torch.matmul(vectorMatrix, query_weights), torch.matmul(vectorMatrix, key_weights), \\\n",
    "    torch.matmul(vectorMatrix, value_weights) \n",
    "\n",
    "# Check for transposeness in matrix multiplication"
   ]
  },
  {
   "cell_type": "code",
   "execution_count": 43,
   "metadata": {},
   "outputs": [],
   "source": [
    "def qk_dotproducts(queries, keys):\n",
    "    dotproduct_matrix = torch.Tensor([])\n",
    "    for i in queries:\n",
    "        dotproduct_vector = torch.Tensor([])\n",
    "        for j in keys:\n",
    "            dotproduct_vector = torch.cat([dotproduct_vector, torch.dot(i,j).reshape(-1)])\n",
    "        dotproduct_matrix = torch.cat([dotproduct_matrix, dotproduct_vector.reshape(1,-1)])\n",
    "     \n",
    "    return dotproduct_matrix"
   ]
  },
  {
   "cell_type": "code",
   "execution_count": 44,
   "metadata": {},
   "outputs": [],
   "source": [
    "def getSoftmaxed_qkdp(qk_dotproductmatrix):\n",
    "    \n",
    "    sm = nn.Softmax(dim = 0)\n",
    "    sm_matrix = torch.tensor([])\n",
    "    for i in qk_dotproductmatrix:\n",
    "        sm_matrix = torch.cat([sm_matrix, sm(i).reshape(1,-1)])\n",
    "        \n",
    "    return sm_matrix\n",
    "    "
   ]
  },
  {
   "cell_type": "code",
   "execution_count": 45,
   "metadata": {},
   "outputs": [],
   "source": [
    "def getSoftmaxWeightedValues(softmaxed_qkdp, values):\n",
    "    \n",
    "    dim2_mat = torch.tensor([])\n",
    "    dim3_mat = torch.tensor([])\n",
    "    \n",
    "    outer_loop_range = softmaxed_qkdp.shape[0]\n",
    "    inner_loop_range = values.shape[0]\n",
    "    \n",
    "    \n",
    "    for i in range(outer_loop_range):\n",
    "        for j in range(inner_loop_range):\n",
    "            dim2_mat = torch.cat([dim2_mat, (softmaxed_qkdp[i][j]*values[j]).reshape(-1)])\n",
    "        dim3_mat = torch.cat([dim3_mat, dim2_mat.reshape(1,values.shape[0],values.shape[1])])\n",
    "        dim2_mat = torch.tensor([])\n",
    "\n",
    "        \n",
    "    return dim3_mat"
   ]
  },
  {
   "cell_type": "code",
   "execution_count": null,
   "metadata": {},
   "outputs": [],
   "source": [
    "'''\n",
    "wordVecs = getWordVectors('Hi there this is nuts')\n",
    "pos_encoded = PositionalEncoding(wordVecs)\n",
    "\n",
    "new_dim = 3\n",
    "queries, keys, values = qkvs(pos_encoded, new_dim)\n",
    "qk_dotproductmatrix = qk_dotproducts(queries, keys)\n",
    "\n",
    "d_k = keys.shape[1] # to be changed later to square root of 'key' vector dimension\n",
    "qk_dotproductmatrix/=d_k\n",
    "\n",
    "softmaxed_qkdp = getSoftmaxed_qkdp(qk_dotproductmatrix)\n",
    "softmax_weighted_values = getSoftmaxWeightedValues(softmaxed_qkdp, values)\n",
    "\n",
    "'''"
   ]
  },
  {
   "cell_type": "code",
   "execution_count": 55,
   "metadata": {},
   "outputs": [],
   "source": [
    "wordVecs = getWordVectors('Hi there this is nuts')\n",
    "# wordVecs"
   ]
  },
  {
   "cell_type": "code",
   "execution_count": 47,
   "metadata": {},
   "outputs": [],
   "source": [
    "pos_encoded = PositionalEncoding(wordVecs)\n",
    "# pos_encoded"
   ]
  },
  {
   "cell_type": "code",
   "execution_count": 48,
   "metadata": {},
   "outputs": [],
   "source": [
    "queries, keys, values = qkvs(pos_encoded, new_dim)"
   ]
  },
  {
   "cell_type": "code",
   "execution_count": 49,
   "metadata": {},
   "outputs": [],
   "source": [
    "qk_dotproductmatrix = qk_dotproducts(queries, keys)"
   ]
  },
  {
   "cell_type": "code",
   "execution_count": 50,
   "metadata": {},
   "outputs": [],
   "source": [
    "d_k = keys.shape[1] # to be changed later to square root of 'key' vector dimension\n",
    "qk_dotproductmatrix/=d_k"
   ]
  },
  {
   "cell_type": "code",
   "execution_count": 51,
   "metadata": {},
   "outputs": [],
   "source": [
    "softmaxed_qkdp = getSoftmaxed_qkdp(qk_dotproductmatrix)"
   ]
  },
  {
   "cell_type": "code",
   "execution_count": 52,
   "metadata": {},
   "outputs": [],
   "source": [
    "softmax_weighted_values = getSoftmaxWeightedValues(softmaxed_qkdp, values)"
   ]
  },
  {
   "cell_type": "code",
   "execution_count": null,
   "metadata": {},
   "outputs": [],
   "source": [
    "softmax_weighted_values"
   ]
  },
  {
   "cell_type": "code",
   "execution_count": 36,
   "metadata": {},
   "outputs": [],
   "source": [
    "    \n",
    "    "
   ]
  },
  {
   "cell_type": "code",
   "execution_count": null,
   "metadata": {},
   "outputs": [],
   "source": []
  },
  {
   "cell_type": "code",
   "execution_count": null,
   "metadata": {},
   "outputs": [],
   "source": []
  },
  {
   "cell_type": "code",
   "execution_count": null,
   "metadata": {},
   "outputs": [],
   "source": []
  }
 ],
 "metadata": {
  "kernelspec": {
   "display_name": "Python 3",
   "language": "python",
   "name": "python3"
  },
  "language_info": {
   "codemirror_mode": {
    "name": "ipython",
    "version": 3
   },
   "file_extension": ".py",
   "mimetype": "text/x-python",
   "name": "python",
   "nbconvert_exporter": "python",
   "pygments_lexer": "ipython3",
   "version": "3.6.9"
  }
 },
 "nbformat": 4,
 "nbformat_minor": 4
}
