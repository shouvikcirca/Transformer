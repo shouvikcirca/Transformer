{
 "cells": [
  {
   "cell_type": "code",
   "execution_count": 1,
   "metadata": {},
   "outputs": [],
   "source": [
    "import torch \n",
    "import torch.nn as nn\n",
    "# import fasttext as ft\n",
    "import math\n",
    "import bcolz\n",
    "import numpy as np\n",
    "import pickle"
   ]
  },
  {
   "cell_type": "markdown",
   "metadata": {},
   "source": [
    "# English Word Embedding Preprocessing"
   ]
  },
  {
   "cell_type": "code",
   "execution_count": null,
   "metadata": {},
   "outputs": [],
   "source": [
    "# Do not run\n",
    "# words = []\n",
    "# idx = 0\n",
    "# word2idx = {}\n",
    "# vectors = bcolz.carray(np.zeros(1), rootdir=f'english_6B.300.dat', mode='w')"
   ]
  },
  {
   "cell_type": "code",
   "execution_count": null,
   "metadata": {},
   "outputs": [],
   "source": [
    "# Do not run\n",
    "# with open(f'english_glove.6B.300d.txt', 'rb') as f:\n",
    "#     for l in f:\n",
    "#         line = l.decode().split()\n",
    "#         word = line[0]\n",
    "#         words.append(word)\n",
    "#         word2idx[word] = idx\n",
    "#         idx += 1\n",
    "#         vect = np.array(line[1:]).astype(np.float)\n",
    "#         vectors.append(vect)"
   ]
  },
  {
   "cell_type": "code",
   "execution_count": null,
   "metadata": {},
   "outputs": [],
   "source": [
    "# Do not run\n",
    "# vectors = bcolz.carray(vectors[1:].reshape((-1, 300)), rootdir=f'english_6B.300.dat', mode='w')\n",
    "# vectors.flush()\n",
    "# pickle.dump(words, open(f'english_words.pkl', 'wb'))\n",
    "# pickle.dump(word2idx, open(f'english_word2idx.pkl', 'wb'))"
   ]
  },
  {
   "cell_type": "code",
   "execution_count": 2,
   "metadata": {},
   "outputs": [],
   "source": [
    "# english_vectors = bcolz.open(f'english_6B.300.dat')[:]\n",
    "english_words = pickle.load(open(f'english_words.pkl', 'rb'))\n",
    "# english_word2idx = pickle.load(open(f'english_word2idx.pkl', 'rb'))\n",
    "# english_vectors = pickle.load(open(f'english_vectors.pkl', 'rb'))\n",
    "# len(english_vectors), len(english_words), len(english_word2idx)\n",
    "# english_glove = {w: english_vectors[english_word2idx[w]] for w in english_words}"
   ]
  },
  {
   "cell_type": "code",
   "execution_count": null,
   "metadata": {},
   "outputs": [],
   "source": [
    "# To find the index of a word in vocabulary\n",
    "# english_word2idx['where']\n",
    "# english_glove['the']"
   ]
  },
  {
   "cell_type": "code",
   "execution_count": null,
   "metadata": {},
   "outputs": [],
   "source": [
    "# One Hot encoding\n",
    "# onehotdict = {}\n",
    "# for a,b in enumerate(english_words):\n",
    "#     onehotdict[b] = torch.zeros(1,400001).float()\n"
   ]
  },
  {
   "cell_type": "code",
   "execution_count": null,
   "metadata": {},
   "outputs": [],
   "source": [
    "# pickle.dump(english_vectors, open(f'english_vectors.pkl', 'wb'))\n",
    "# english_vectors.shape"
   ]
  },
  {
   "cell_type": "code",
   "execution_count": null,
   "metadata": {},
   "outputs": [],
   "source": [
    "# english_word2idx['automatic']"
   ]
  },
  {
   "cell_type": "code",
   "execution_count": null,
   "metadata": {},
   "outputs": [],
   "source": [
    "# english_words[20:50]"
   ]
  },
  {
   "cell_type": "markdown",
   "metadata": {},
   "source": [
    "Subsampling"
   ]
  },
  {
   "cell_type": "code",
   "execution_count": 3,
   "metadata": {},
   "outputs": [],
   "source": [
    "indices = []\n",
    "ind = 0\n",
    "count = 1\n",
    "englishSens = []\n",
    "with open('train.en','r') as f:\n",
    "    for line in f:\n",
    "        flag = 'green'\n",
    "        linelist = line.split()\n",
    "        for word in linelist:\n",
    "            if word.lower() not in english_words:\n",
    "#                 print(word)\n",
    "                flag = 'red'\n",
    "        if flag == 'green':\n",
    "            englishSens.append(line.split('\\n')[0])\n",
    "            indices.append(ind)\n",
    "            count+=1\n",
    "        ind+=1\n",
    "        if count == 101:\n",
    "            break"
   ]
  },
  {
   "cell_type": "code",
   "execution_count": 4,
   "metadata": {},
   "outputs": [],
   "source": [
    "for i in englishSens:\n",
    "    l = i.split()\n",
    "    for j in l:\n",
    "        if j.lower() not in english_words:\n",
    "            print(j)"
   ]
  },
  {
   "cell_type": "code",
   "execution_count": null,
   "metadata": {},
   "outputs": [],
   "source": [
    "# indices"
   ]
  },
  {
   "cell_type": "code",
   "execution_count": null,
   "metadata": {},
   "outputs": [],
   "source": [
    "# with open('../transformergooglecloudkey.json','r') as f:\n",
    "#     print(f.read())\n",
    "    \n",
    "# print('da')"
   ]
  },
  {
   "cell_type": "code",
   "execution_count": 40,
   "metadata": {},
   "outputs": [],
   "source": [
    "# import os\n",
    "# from google.cloud import translate"
   ]
  },
  {
   "cell_type": "code",
   "execution_count": 48,
   "metadata": {},
   "outputs": [],
   "source": [
    "# os.environ['GOOGLE_APPLICATION_CREDENTIALS'] = \"/home/shouvik/Desktop/DeepLearning/miniproject/transformergooglecloudkey.json\""
   ]
  },
  {
   "cell_type": "code",
   "execution_count": 65,
   "metadata": {},
   "outputs": [],
   "source": [
    "# tc = translate.TranslationServiceClient()\n",
    "\n",
    "# parent = tc.location_path('alphacreate-1123', 'global')"
   ]
  },
  {
   "cell_type": "code",
   "execution_count": null,
   "metadata": {},
   "outputs": [],
   "source": [
    "# target = 'de'\n",
    "\n",
    "# output = tc.translate_text(\n",
    "#     parent = parent,\n",
    "#     contents = englishSens,\n",
    "#     target_language_code=target,\n",
    "    \n",
    "# )\n",
    "\n",
    "# print(output)"
   ]
  },
  {
   "cell_type": "code",
   "execution_count": 77,
   "metadata": {},
   "outputs": [],
   "source": [
    "# germanSens = []\n",
    "# for translation in output.translations:\n",
    "# #         print(u\"Translated text: {}\".format(translation.translated_text))\n",
    "#     germanSens.append(translation.translated_text)"
   ]
  },
  {
   "cell_type": "code",
   "execution_count": 81,
   "metadata": {},
   "outputs": [],
   "source": [
    "# pickle.dump(englishSens, open(f'subsampledEnglishSens.pkl', 'wb'))\n",
    "# pickle.dump(germanSens, open(f'subsampledGermanSens.pkl', 'wb'))"
   ]
  },
  {
   "cell_type": "code",
   "execution_count": null,
   "metadata": {},
   "outputs": [],
   "source": [
    "# !pip3 install googletrans"
   ]
  },
  {
   "cell_type": "code",
   "execution_count": 26,
   "metadata": {},
   "outputs": [],
   "source": [
    "# from googletrans import Translator\n",
    "# translator = Translator()"
   ]
  },
  {
   "cell_type": "code",
   "execution_count": null,
   "metadata": {},
   "outputs": [],
   "source": [
    "# germanSens = []\n",
    "# for a,b in enumerate(englishSens[:54]):\n",
    "#     print(a,b)\n",
    "#     germanSens.append(str(translator.translate(b ,src='en', dest='de')).split(',')[2].split('=')[1])"
   ]
  },
  {
   "cell_type": "code",
   "execution_count": null,
   "metadata": {},
   "outputs": [],
   "source": [
    "# for a,b in enumerate(germanSens[::-1]):\n",
    "#     print(a,b)"
   ]
  },
  {
   "cell_type": "code",
   "execution_count": null,
   "metadata": {},
   "outputs": [],
   "source": [
    "# str(translator.translate(\"Iron cement is a ready paste as a fillet by spatula or finger in the form of edges (corners) of the steel ingot mold is laid.\" ,src='en', dest='de')).split(',')[2].split('=')[1]"
   ]
  },
  {
   "cell_type": "code",
   "execution_count": null,
   "metadata": {},
   "outputs": [],
   "source": []
  },
  {
   "cell_type": "markdown",
   "metadata": {},
   "source": [
    "# German Word Embedding Preprocessing"
   ]
  },
  {
   "cell_type": "code",
   "execution_count": null,
   "metadata": {},
   "outputs": [],
   "source": [
    "# words = []\n",
    "# idx = 0\n",
    "# word2idx = {}\n",
    "# vectors = bcolz.carray(np.zeros(1), rootdir=f'german_6B.300.dat', mode='w')"
   ]
  },
  {
   "cell_type": "code",
   "execution_count": null,
   "metadata": {},
   "outputs": [],
   "source": [
    "# with open(f'german_glove_300d.txt', 'rb') as f:\n",
    "#     for l in f:\n",
    "#         line = l.decode().split()\n",
    "#         word = line[0]\n",
    "#         words.append(word)\n",
    "#         word2idx[word] = idx\n",
    "#         idx += 1\n",
    "#         #Making size of embedding 48\n",
    "#         vect = np.array(line[1:]).astype(np.float)\n",
    "#         vectors.append(vect)"
   ]
  },
  {
   "cell_type": "code",
   "execution_count": null,
   "metadata": {},
   "outputs": [],
   "source": [
    "# vectors = bcolz.carray(vectors[1:].reshape((-1, 300)), rootdir=f'german_6B.300.dat', mode='w')\n",
    "# vectors.flush()\n",
    "# pickle.dump(words, open(f'german_words.pkl', 'wb'))\n",
    "# pickle.dump(word2idx, open(f'german_word2idx.pkl', 'wb'))"
   ]
  },
  {
   "cell_type": "code",
   "execution_count": 117,
   "metadata": {},
   "outputs": [],
   "source": [
    "# german_vectors = bcolz.open(f'german_6B.300.dat')[:]\n",
    "# german_words = pickle.load(open(f'german_words.pkl', 'rb'))\n",
    "german_word2idx = pickle.load(open(f'german_word2idx.pkl', 'rb'))\n",
    "\n",
    "# german_vectors1 = pickle.load(open(f'german_vectors1.pkl', 'rb'))\n",
    "# german_vectors2 = pickle.load(open(f'german_vectors2.pkl', 'rb'))\n",
    "# german_vectors3 = pickle.load(open(f'german_vectors3.pkl', 'rb'))\n",
    "# german_vectors4 = pickle.load(open(f'german_vectors4.pkl', 'rb'))\n",
    "# german_glove = {w: german_vectors[german_word2idx[w]] for w in german_words}"
   ]
  },
  {
   "cell_type": "code",
   "execution_count": 118,
   "metadata": {},
   "outputs": [
    {
     "data": {
      "text/plain": [
       "1778"
      ]
     },
     "execution_count": 118,
     "metadata": {},
     "output_type": "execute_result"
    }
   ],
   "source": [
    "german_word2idx['geschrieben']"
   ]
  },
  {
   "cell_type": "code",
   "execution_count": null,
   "metadata": {},
   "outputs": [],
   "source": [
    "# gv = german_vectors[1200000:]"
   ]
  },
  {
   "cell_type": "code",
   "execution_count": null,
   "metadata": {},
   "outputs": [],
   "source": [
    "# german_vectors.shape, len(german_words), len(german_word2idx)"
   ]
  },
  {
   "cell_type": "code",
   "execution_count": null,
   "metadata": {},
   "outputs": [],
   "source": [
    "# gv.shape"
   ]
  },
  {
   "cell_type": "code",
   "execution_count": null,
   "metadata": {},
   "outputs": [],
   "source": [
    "# pickle.dump(gv, open(f'german_vectors4.pkl', 'wb'))"
   ]
  },
  {
   "cell_type": "code",
   "execution_count": null,
   "metadata": {},
   "outputs": [],
   "source": [
    "# german_vectors1.shape, german_vectors2.shape, german_vectors3.shape, german_vectors4.shape"
   ]
  },
  {
   "cell_type": "code",
   "execution_count": 82,
   "metadata": {},
   "outputs": [],
   "source": [
    "germanSens = pickle.load(open(f'subsampledGermanSens.pkl', 'rb'))"
   ]
  },
  {
   "cell_type": "code",
   "execution_count": null,
   "metadata": {},
   "outputs": [],
   "source": [
    "indices"
   ]
  },
  {
   "cell_type": "code",
   "execution_count": 115,
   "metadata": {},
   "outputs": [],
   "source": [
    "def giveViolatingCount():\n",
    "    a = []\n",
    "    gindices = []\n",
    "    gind = 0 # index\n",
    "    counter = 0 # number of violating sentences\n",
    "    for line in germanSens:\n",
    "        linelist = line.split()\n",
    "        flag = 'green'\n",
    "        for word in linelist:\n",
    "            if word.lower() not in german_words:\n",
    "                a.append(gind)\n",
    "                counter+=1\n",
    "                flag = 'red'\n",
    "                break\n",
    "        if flag == 'green':\n",
    "            gindices.append(gind)\n",
    "        gind+=1\n",
    "        if gind > max(indices):\n",
    "            break\n",
    "\n",
    "    print('Violating count:{}'.format(counter))"
   ]
  },
  {
   "cell_type": "code",
   "execution_count": 116,
   "metadata": {},
   "outputs": [
    {
     "name": "stdout",
     "output_type": "stream",
     "text": [
      "Violating count:100\n"
     ]
    }
   ],
   "source": [
    "giveViolatingCount()"
   ]
  },
  {
   "cell_type": "code",
   "execution_count": 109,
   "metadata": {},
   "outputs": [
    {
     "data": {
      "text/plain": [
       "100"
      ]
     },
     "execution_count": 109,
     "metadata": {},
     "output_type": "execute_result"
    }
   ],
   "source": [
    "len(a)"
   ]
  },
  {
   "cell_type": "code",
   "execution_count": 110,
   "metadata": {},
   "outputs": [
    {
     "data": {
      "text/plain": [
       "203"
      ]
     },
     "execution_count": 110,
     "metadata": {},
     "output_type": "execute_result"
    }
   ],
   "source": [
    "max(indices)"
   ]
  },
  {
   "cell_type": "markdown",
   "metadata": {},
   "source": [
    "# English  Sentence Preprocessing"
   ]
  },
  {
   "cell_type": "code",
   "execution_count": null,
   "metadata": {},
   "outputs": [],
   "source": [
    "english_sentence_vectors = []\n",
    "with open(f'train.en', 'rb') as f:\n",
    "    for l in f:\n",
    "        line = l.decode()        \n",
    "        english_sentence_vectors.append(line)"
   ]
  },
  {
   "cell_type": "code",
   "execution_count": null,
   "metadata": {},
   "outputs": [],
   "source": [
    "english_sentence_vectors = english_sentence_vectors[:2000]"
   ]
  },
  {
   "cell_type": "code",
   "execution_count": null,
   "metadata": {},
   "outputs": [],
   "source": [
    "english_matrixOfSentenceEmbeddings = []\n",
    "wordembedding_matrix = torch.tensor([]).double()\n",
    "unk = np.random.normal(scale=0.6, size=(300, ))\n",
    "\n",
    "\n",
    "for i in english_sentence_vectors:\n",
    "    temp = i.split()\n",
    "    wordembedding_matrix = torch.tensor([]).double()\n",
    "    for j in range(len(temp)):\n",
    "        try:\n",
    "            wordembedding_matrix = torch.cat([wordembedding_matrix, torch.from_numpy(english_glove[temp[j]]).reshape(1,-1)])\n",
    "        except KeyError: \n",
    "            wordembedding_matrix = torch.cat([wordembedding_matrix, torch.from_numpy(unk).reshape(1,-1)])\n",
    "    english_matrixOfSentenceEmbeddings.append(wordembedding_matrix)\n",
    "   \n",
    "\n"
   ]
  },
  {
   "cell_type": "code",
   "execution_count": null,
   "metadata": {},
   "outputs": [],
   "source": [
    "pickle.dump(english_matrixOfSentenceEmbeddings, open(f'english_matrixOfSentenceEmbeddings.pkl', 'wb'))\n",
    "we = pickle.load(open(f'english_matrixOfSentenceEmbeddings.pkl', 'rb'))"
   ]
  },
  {
   "cell_type": "markdown",
   "metadata": {},
   "source": [
    "# German Sentence Preprocessing"
   ]
  },
  {
   "cell_type": "code",
   "execution_count": null,
   "metadata": {},
   "outputs": [],
   "source": [
    "german_sentence_vectors = []\n",
    "with open(f'train.de', 'rb') as f:\n",
    "    for l in f:\n",
    "        line = l.decode()        \n",
    "        german_sentence_vectors.append(line)"
   ]
  },
  {
   "cell_type": "code",
   "execution_count": null,
   "metadata": {},
   "outputs": [],
   "source": [
    "german_sentence_vectors = german_sentence_vectors[:2000]"
   ]
  },
  {
   "cell_type": "code",
   "execution_count": null,
   "metadata": {},
   "outputs": [],
   "source": [
    "german_matrixOfSentenceEmbeddings = []\n",
    "wordembedding_matrix = torch.tensor([]).double()\n",
    "unk = np.random.normal(scale=0.6, size=(300, ))\n",
    "\n",
    "\n",
    "for i in german_sentence_vectors:\n",
    "    temp = i.split()\n",
    "    wordembedding_matrix = torch.tensor([]).double()\n",
    "    for j in range(len(temp)):\n",
    "        try:\n",
    "            wordembedding_matrix = torch.cat([wordembedding_matrix, torch.from_numpy(german_glove[temp[j]]).reshape(1,-1)])\n",
    "        except KeyError: \n",
    "            wordembedding_matrix = torch.cat([wordembedding_matrix, torch.from_numpy(unk).reshape(1,-1)])\n",
    "    german_matrixOfSentenceEmbeddings.append(wordembedding_matrix)\n",
    "    "
   ]
  },
  {
   "cell_type": "code",
   "execution_count": null,
   "metadata": {},
   "outputs": [],
   "source": [
    "pickle.dump(german_matrixOfSentenceEmbeddings, open(f'german_matrixOfSentenceEmbeddings.pkl', 'wb'))\n",
    "lione = pickle.load(open(f'german_matrixOfSentenceEmbeddings.pkl', 'rb'))"
   ]
  },
  {
   "cell_type": "code",
   "execution_count": null,
   "metadata": {},
   "outputs": [],
   "source": []
  },
  {
   "cell_type": "code",
   "execution_count": null,
   "metadata": {},
   "outputs": [],
   "source": []
  }
 ],
 "metadata": {
  "kernelspec": {
   "display_name": "Python 3",
   "language": "python",
   "name": "python3"
  },
  "language_info": {
   "codemirror_mode": {
    "name": "ipython",
    "version": 3
   },
   "file_extension": ".py",
   "mimetype": "text/x-python",
   "name": "python",
   "nbconvert_exporter": "python",
   "pygments_lexer": "ipython3",
   "version": "3.6.9"
  }
 },
 "nbformat": 4,
 "nbformat_minor": 4
}
