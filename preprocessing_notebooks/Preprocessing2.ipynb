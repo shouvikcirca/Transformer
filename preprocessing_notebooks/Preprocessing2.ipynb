{
 "cells": [
  {
   "cell_type": "code",
   "execution_count": null,
   "metadata": {},
   "outputs": [],
   "source": [
    "import torch \n",
    "import torch.nn as nn\n",
    "# import fasttext as ft\n",
    "import math\n",
    "import bcolz\n",
    "import numpy as np\n",
    "import pickle"
   ]
  },
  {
   "cell_type": "code",
   "execution_count": null,
   "metadata": {},
   "outputs": [],
   "source": [
    "english_words = pickle.load(open(f'english_words.pkl', 'rb'))"
   ]
  },
  {
   "cell_type": "markdown",
   "metadata": {},
   "source": [
    "Finding English Non Violating Sentences"
   ]
  },
  {
   "cell_type": "code",
   "execution_count": null,
   "metadata": {},
   "outputs": [],
   "source": [
    "def violates(line):\n",
    "    linelist = line.split()\n",
    "    for word in linelist:\n",
    "        if word.lower() not in english_words:\n",
    "            return True\n",
    "    return False"
   ]
  },
  {
   "cell_type": "code",
   "execution_count": null,
   "metadata": {},
   "outputs": [],
   "source": [
    "lic = pickle.load(open(f'lastindexchecked.pkl', 'rb'))\n",
    "lic"
   ]
  },
  {
   "cell_type": "code",
   "execution_count": null,
   "metadata": {},
   "outputs": [],
   "source": [
    "indices = []\n",
    "ind = 0\n",
    "count = 1\n",
    "englishSens = []\n",
    "with open('train.en','r') as f:\n",
    "    for line in f:\n",
    "        if ind >923:\n",
    "            if not violates(line):\n",
    "                indices.append(ind)\n",
    "                englishSens.append(line)\n",
    "                count+=1\n",
    "        \n",
    "        ind+=1\n",
    "        if count > 100:\n",
    "            break"
   ]
  },
  {
   "cell_type": "code",
   "execution_count": null,
   "metadata": {},
   "outputs": [],
   "source": [
    "lic = pickle.load(open(f'lastindexchecked.pkl', 'rb'))\n",
    "lic.append(max(indices))\n",
    "pickle.dump(lic, open(f'lastindexchecked.pkl', 'wb'))"
   ]
  },
  {
   "cell_type": "code",
   "execution_count": null,
   "metadata": {},
   "outputs": [],
   "source": [
    "lic = pickle.load(open(f'lastindexchecked.pkl', 'rb'))\n",
    "lic"
   ]
  },
  {
   "cell_type": "markdown",
   "metadata": {},
   "source": [
    "Cross Checking Violation"
   ]
  },
  {
   "cell_type": "code",
   "execution_count": null,
   "metadata": {},
   "outputs": [],
   "source": [
    "for i in englishSens:\n",
    "    l = i.split()\n",
    "    for j in l:\n",
    "        if j.lower() not in english_words:\n",
    "            print(j)"
   ]
  },
  {
   "cell_type": "markdown",
   "metadata": {},
   "source": [
    "Calling Google Translate API to get German translations"
   ]
  },
  {
   "cell_type": "code",
   "execution_count": null,
   "metadata": {},
   "outputs": [],
   "source": [
    "import os\n",
    "from google.cloud import translate\n",
    "\n",
    "os.environ['GOOGLE_APPLICATION_CREDENTIALS'] = \"/home/shouvik/Desktop/DeepLearning/miniproject/transformergooglecloudkey.json\"\n",
    "\n",
    "tc = translate.TranslationServiceClient()\n",
    "\n",
    "parent = tc.location_path('alphacreate-1123', 'global')\n",
    "\n",
    "target = 'de'\n",
    "\n",
    "output = tc.translate_text(\n",
    "    parent = parent,\n",
    "    contents = englishSens,\n",
    "    target_language_code=target,\n",
    "    \n",
    ")\n",
    "\n",
    "# print(output)"
   ]
  },
  {
   "cell_type": "code",
   "execution_count": null,
   "metadata": {},
   "outputs": [],
   "source": [
    "germanSens = []\n",
    "for translation in output.translations:\n",
    "#         print(u\"Translated text: {}\".format(translation.translated_text))\n",
    "    germanSens.append(translation.translated_text)"
   ]
  },
  {
   "cell_type": "code",
   "execution_count": null,
   "metadata": {},
   "outputs": [],
   "source": [
    "pickle.dump(englishSens, open(f'subsampledEnglishSens6.pkl', 'wb'))\n",
    "pickle.dump(germanSens, open(f'subsampledGermanSens6.pkl', 'wb'))"
   ]
  },
  {
   "cell_type": "markdown",
   "metadata": {},
   "source": [
    "Checking Violation in GermanSens"
   ]
  },
  {
   "cell_type": "code",
   "execution_count": null,
   "metadata": {},
   "outputs": [],
   "source": [
    "germanSens = pickle.load(open(f'subsampledGermanSens6.pkl', 'rb'))"
   ]
  },
  {
   "cell_type": "code",
   "execution_count": null,
   "metadata": {},
   "outputs": [],
   "source": [
    "german_words = pickle.load(open(f'german_words.pkl', 'rb'))"
   ]
  },
  {
   "cell_type": "code",
   "execution_count": null,
   "metadata": {},
   "outputs": [],
   "source": [
    "def giveViolatingCount():\n",
    "    a = []\n",
    "    gindices = []\n",
    "    gind = 0 # index\n",
    "    counter = 0 # number of violating sentences\n",
    "    for line in germanSens:\n",
    "        linelist = line.split()\n",
    "        flag = 'green'\n",
    "        for word in linelist:\n",
    "            if word.lower() not in german_words:\n",
    "                a.append(gind)\n",
    "                counter+=1\n",
    "                flag = 'red'\n",
    "                break\n",
    "        if flag == 'green':\n",
    "            gindices.append(gind)\n",
    "        gind+=1\n",
    "        if gind > max(indices):\n",
    "            break\n",
    "\n",
    "    print('Violating count:{}'.format(counter))"
   ]
  },
  {
   "cell_type": "code",
   "execution_count": null,
   "metadata": {},
   "outputs": [],
   "source": [
    "german_words[:10]"
   ]
  },
  {
   "cell_type": "code",
   "execution_count": null,
   "metadata": {},
   "outputs": [],
   "source": [
    "giveViolatingCount()"
   ]
  },
  {
   "cell_type": "code",
   "execution_count": null,
   "metadata": {},
   "outputs": [],
   "source": [
    "# a = pickle.load(open(f'subsampledGermanSens.pkl', 'rb'))\n",
    "# b = pickle.load(open(f'subsampledGermanSens2.pkl', 'rb'))\n",
    "c = pickle.load(open(f'subsampledEnglishSens.pkl', 'rb'))\n",
    "d = pickle.load(open(f'subsampledEnglishSens2.pkl', 'rb'))\n",
    "e = pickle.load(open(f'subsampledEnglishSens3.pkl', 'rb'))\n",
    "f = pickle.load(open(f'subsampledEnglishSens4.pkl', 'rb'))\n",
    "g = pickle.load(open(f'subsampledEnglishSens5.pkl', 'rb'))\n",
    "h = pickle.load(open(f'subsampledEnglishSens6.pkl', 'rb'))\n",
    "numchars = 0\n",
    "\n",
    "for i in range(100):\n",
    "    numchars+=( len(c[i]) + len(d[i] )+ len(e[i]) + len(f[i]) + len(g[i]) + len(h[i]))"
   ]
  },
  {
   "cell_type": "code",
   "execution_count": null,
   "metadata": {},
   "outputs": [],
   "source": [
    "print('Characters left: {}'.format(500000 - numchars))"
   ]
  },
  {
   "cell_type": "code",
   "execution_count": null,
   "metadata": {},
   "outputs": [],
   "source": [
    "#469988\n",
    "#456047\n",
    "#428047\n",
    "##\n",
    "#423148"
   ]
  },
  {
   "cell_type": "markdown",
   "metadata": {},
   "source": [
    "Verifying Translations"
   ]
  },
  {
   "cell_type": "code",
   "execution_count": null,
   "metadata": {},
   "outputs": [],
   "source": [
    "englishSens[7]"
   ]
  },
  {
   "cell_type": "code",
   "execution_count": null,
   "metadata": {},
   "outputs": [],
   "source": [
    "germanSens[7]"
   ]
  },
  {
   "cell_type": "markdown",
   "metadata": {},
   "source": [
    "Bert embeddings"
   ]
  },
  {
   "cell_type": "code",
   "execution_count": null,
   "metadata": {},
   "outputs": [],
   "source": [
    "import pickle\n",
    "import transformers\n",
    "from bert_embedding import BertEmbedding\n",
    "import torch"
   ]
  },
  {
   "cell_type": "code",
   "execution_count": null,
   "metadata": {},
   "outputs": [],
   "source": [
    "# tokenizer = transformers.BertTokenizer.from_pretrained('bert-base-uncased')"
   ]
  },
  {
   "cell_type": "code",
   "execution_count": null,
   "metadata": {},
   "outputs": [],
   "source": [
    "# line = c[0]\n",
    "# print('Sentence: {}'.format(line))\n",
    "# print()\n",
    "# tokens = tokenizer.tokenize(line) \n",
    "# print('Tokens: {}'.format(tokens))\n",
    "# print()\n",
    "# token_ids = tokenizer.convert_tokens_to_ids(tokens)\n",
    "# print('TokenIDs: {}'.format(token_ids))\n",
    "    "
   ]
  },
  {
   "cell_type": "code",
   "execution_count": null,
   "metadata": {},
   "outputs": [],
   "source": [
    "# bert_embedding = BertEmbedding(model='bert_12_768_12', dataset_name='book_corpus_wiki_de_uncased')\n",
    "# result = bert_embedding(tokens)"
   ]
  },
  {
   "cell_type": "code",
   "execution_count": null,
   "metadata": {},
   "outputs": [],
   "source": [
    "# tokenizer_de = transformers.AutoTokenizer.from_pretrained(\"bert-base-german-cased\")\n",
    "# model_de = transformers.AutoModelWithLMHead.from_pretrained(\"bert-base-german-cased\")"
   ]
  },
  {
   "cell_type": "code",
   "execution_count": null,
   "metadata": {},
   "outputs": [],
   "source": [
    "tokenizer_de_uc = transformers.AutoTokenizer.from_pretrained(\"dbmdz/bert-base-german-uncased\")\n",
    "model_de_uc = transformers.AutoModelWithLMHead.from_pretrained(\"dbmdz/bert-base-german-uncased\")"
   ]
  },
  {
   "cell_type": "code",
   "execution_count": null,
   "metadata": {},
   "outputs": [],
   "source": [
    "germanSens = pickle.load(open(f'subsampledGermanSens.pkl', 'rb'))\n",
    "germanSens[0], len(germanSens)"
   ]
  },
  {
   "cell_type": "code",
   "execution_count": null,
   "metadata": {},
   "outputs": [],
   "source": [
    "# tokenizer = BertTokenizer.from_pretrained('bert-base-uncased')\n",
    "# model = BertForPreTraining.from_pretrained('bert-base-uncased')\n",
    "input_ids = torch.tensor(tokenizer_de_uc.encode(germanSens[0], add_special_tokens=True)).unsqueeze(0)  # Batch size 1\n",
    "outputs_de = model_de_uc(input_ids)\n",
    "# prediction_scores, seq_relationship_scores = outputs[:2]"
   ]
  },
  {
   "cell_type": "code",
   "execution_count": null,
   "metadata": {},
   "outputs": [],
   "source": [
    "outputs_de[0].shape"
   ]
  },
  {
   "cell_type": "code",
   "execution_count": null,
   "metadata": {},
   "outputs": [],
   "source": [
    "tokenizer_en = transformers.AutoTokenizer.from_pretrained('bert-base-uncased')\n",
    "model_en = transformers.AutoModelWithLMHead.from_pretrained('bert-base-uncased')\n",
    "\n"
   ]
  },
  {
   "cell_type": "code",
   "execution_count": null,
   "metadata": {},
   "outputs": [],
   "source": [
    "englishSens = pickle.load(open(f'subsampledEnglishSens.pkl', 'rb'))\n",
    "englishSens[0], len(englishSens)"
   ]
  },
  {
   "cell_type": "code",
   "execution_count": null,
   "metadata": {},
   "outputs": [],
   "source": [
    "input_ids = torch.tensor(tokenizer_en.encode(englishSens[0], add_special_tokens=True)).unsqueeze(0)  # Batch size 1\n",
    "outputs_en = model_en(input_ids)"
   ]
  },
  {
   "cell_type": "code",
   "execution_count": null,
   "metadata": {},
   "outputs": [],
   "source": [
    "outputs_en[0].shape"
   ]
  },
  {
   "cell_type": "markdown",
   "metadata": {},
   "source": [
    "Word_Embeddings Of Sentences"
   ]
  },
  {
   "cell_type": "code",
   "execution_count": null,
   "metadata": {},
   "outputs": [],
   "source": [
    "englishSens = []\n",
    "sentence_count = 0\n",
    "with open('train.en','r') as f:\n",
    "    for line in f:\n",
    "        englishSens.append(line)\n",
    "        sentence_count+=1\n",
    "        if sentence_count == 50:\n",
    "            break\n",
    "        "
   ]
  },
  {
   "cell_type": "code",
   "execution_count": null,
   "metadata": {},
   "outputs": [],
   "source": [
    "tokenizer_en = transformers.AutoTokenizer.from_pretrained('bert-base-uncased')\n",
    "model_en = transformers.AutoModelWithLMHead.from_pretrained('bert-base-uncased')"
   ]
  },
  {
   "cell_type": "code",
   "execution_count": null,
   "metadata": {},
   "outputs": [],
   "source": [
    "eng_word_embeddings = []\n",
    "for i in englishSens:\n",
    "    input_ids = torch.tensor(tokenizer_en.encode(i, add_special_tokens=True)).unsqueeze(0)  # Batch size 1\n",
    "    outputs_en = model_en(input_ids)\n",
    "    eng_word_embeddings.append(outputs_en[0])\n",
    "    "
   ]
  },
  {
   "cell_type": "code",
   "execution_count": null,
   "metadata": {},
   "outputs": [],
   "source": [
    "len(eng_word_embeddings),eng_word_embeddings[0].shape"
   ]
  },
  {
   "cell_type": "code",
   "execution_count": null,
   "metadata": {},
   "outputs": [],
   "source": [
    "germanSens = []\n",
    "sentence_count = 0\n",
    "with open('train.de','r') as f:\n",
    "    for line in f:\n",
    "        germanSens.append(line)\n",
    "        sentence_count+=1\n",
    "        if sentence_count == 50:\n",
    "            break\n",
    "        "
   ]
  },
  {
   "cell_type": "code",
   "execution_count": null,
   "metadata": {},
   "outputs": [],
   "source": [
    "tokenizer_de_uc = transformers.AutoTokenizer.from_pretrained(\"dbmdz/bert-base-german-uncased\")\n",
    "model_de_uc = transformers.AutoModelWithLMHead.from_pretrained(\"dbmdz/bert-base-german-uncased\")"
   ]
  },
  {
   "cell_type": "code",
   "execution_count": null,
   "metadata": {},
   "outputs": [],
   "source": [
    "de_word_embeddings = []\n",
    "for i in germanSens:\n",
    "    input_ids = torch.tensor(tokenizer_de_uc.encode(i, add_special_tokens=True)).unsqueeze(0)  # Batch size 1\n",
    "    outputs_de = model_de_uc(input_ids)\n",
    "    de_word_embeddings.append(outputs_de[0])"
   ]
  },
  {
   "cell_type": "code",
   "execution_count": null,
   "metadata": {},
   "outputs": [],
   "source": [
    "len(de_word_embeddings),de_word_embeddings[0].shape"
   ]
  }
 ],
 "metadata": {
  "kernelspec": {
   "display_name": "Python 3",
   "language": "python",
   "name": "python3"
  },
  "language_info": {
   "codemirror_mode": {
    "name": "ipython",
    "version": 3
   },
   "file_extension": ".py",
   "mimetype": "text/x-python",
   "name": "python",
   "nbconvert_exporter": "python",
   "pygments_lexer": "ipython3",
   "version": "3.6.9"
  }
 },
 "nbformat": 4,
 "nbformat_minor": 4
}
