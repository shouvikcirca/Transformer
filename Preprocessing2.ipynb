{
 "cells": [
  {
   "cell_type": "code",
   "execution_count": 1,
   "metadata": {},
   "outputs": [],
   "source": [
    "import torch \n",
    "import torch.nn as nn\n",
    "# import fasttext as ft\n",
    "import math\n",
    "import bcolz\n",
    "import numpy as np\n",
    "import pickle"
   ]
  },
  {
   "cell_type": "code",
   "execution_count": 2,
   "metadata": {},
   "outputs": [],
   "source": [
    "english_words = pickle.load(open(f'english_words.pkl', 'rb'))"
   ]
  },
  {
   "cell_type": "markdown",
   "metadata": {},
   "source": [
    "Finding English Non Violating Sentences"
   ]
  },
  {
   "cell_type": "code",
   "execution_count": 3,
   "metadata": {},
   "outputs": [],
   "source": [
    "def violates(line):\n",
    "    linelist = line.split()\n",
    "    for word in linelist:\n",
    "        if word.lower() not in english_words:\n",
    "            return True\n",
    "    return False"
   ]
  },
  {
   "cell_type": "code",
   "execution_count": 4,
   "metadata": {},
   "outputs": [
    {
     "data": {
      "text/plain": [
       "[203, 409, 639, 813, 923]"
      ]
     },
     "execution_count": 4,
     "metadata": {},
     "output_type": "execute_result"
    }
   ],
   "source": [
    "lic = pickle.load(open(f'lastindexchecked.pkl', 'rb'))\n",
    "lic"
   ]
  },
  {
   "cell_type": "code",
   "execution_count": 5,
   "metadata": {},
   "outputs": [],
   "source": [
    "indices = []\n",
    "ind = 0\n",
    "count = 1\n",
    "englishSens = []\n",
    "with open('train.en','r') as f:\n",
    "    for line in f:\n",
    "        if ind >923:\n",
    "            if not violates(line):\n",
    "                indices.append(ind)\n",
    "                englishSens.append(line)\n",
    "                count+=1\n",
    "        \n",
    "        ind+=1\n",
    "        if count > 100:\n",
    "            break"
   ]
  },
  {
   "cell_type": "code",
   "execution_count": 6,
   "metadata": {},
   "outputs": [],
   "source": [
    "lic = pickle.load(open(f'lastindexchecked.pkl', 'rb'))\n",
    "lic.append(max(indices))\n",
    "pickle.dump(lic, open(f'lastindexchecked.pkl', 'wb'))"
   ]
  },
  {
   "cell_type": "code",
   "execution_count": 7,
   "metadata": {},
   "outputs": [
    {
     "data": {
      "text/plain": [
       "[203, 409, 639, 813, 923, 1042]"
      ]
     },
     "execution_count": 7,
     "metadata": {},
     "output_type": "execute_result"
    }
   ],
   "source": [
    "lic = pickle.load(open(f'lastindexchecked.pkl', 'rb'))\n",
    "lic"
   ]
  },
  {
   "cell_type": "markdown",
   "metadata": {},
   "source": [
    "Cross Checking Violation"
   ]
  },
  {
   "cell_type": "code",
   "execution_count": 8,
   "metadata": {},
   "outputs": [],
   "source": [
    "for i in englishSens:\n",
    "    l = i.split()\n",
    "    for j in l:\n",
    "        if j.lower() not in english_words:\n",
    "            print(j)"
   ]
  },
  {
   "cell_type": "markdown",
   "metadata": {},
   "source": [
    "Calling Google Translate API to get German translations"
   ]
  },
  {
   "cell_type": "code",
   "execution_count": 9,
   "metadata": {},
   "outputs": [],
   "source": [
    "import os\n",
    "from google.cloud import translate\n",
    "\n",
    "os.environ['GOOGLE_APPLICATION_CREDENTIALS'] = \"/home/shouvik/Desktop/DeepLearning/miniproject/transformergooglecloudkey.json\"\n",
    "\n",
    "tc = translate.TranslationServiceClient()\n",
    "\n",
    "parent = tc.location_path('alphacreate-1123', 'global')\n",
    "\n",
    "target = 'de'\n",
    "\n",
    "output = tc.translate_text(\n",
    "    parent = parent,\n",
    "    contents = englishSens,\n",
    "    target_language_code=target,\n",
    "    \n",
    ")\n",
    "\n",
    "# print(output)"
   ]
  },
  {
   "cell_type": "code",
   "execution_count": 10,
   "metadata": {},
   "outputs": [],
   "source": [
    "germanSens = []\n",
    "for translation in output.translations:\n",
    "#         print(u\"Translated text: {}\".format(translation.translated_text))\n",
    "    germanSens.append(translation.translated_text)"
   ]
  },
  {
   "cell_type": "code",
   "execution_count": 11,
   "metadata": {},
   "outputs": [],
   "source": [
    "pickle.dump(englishSens, open(f'subsampledEnglishSens6.pkl', 'wb'))\n",
    "pickle.dump(germanSens, open(f'subsampledGermanSens6.pkl', 'wb'))"
   ]
  },
  {
   "cell_type": "markdown",
   "metadata": {},
   "source": [
    "Checking Violation in GermanSens"
   ]
  },
  {
   "cell_type": "code",
   "execution_count": 12,
   "metadata": {},
   "outputs": [],
   "source": [
    "germanSens = pickle.load(open(f'subsampledGermanSens6.pkl', 'rb'))"
   ]
  },
  {
   "cell_type": "code",
   "execution_count": 13,
   "metadata": {},
   "outputs": [],
   "source": [
    "german_words = pickle.load(open(f'german_words.pkl', 'rb'))"
   ]
  },
  {
   "cell_type": "code",
   "execution_count": 14,
   "metadata": {},
   "outputs": [],
   "source": [
    "def giveViolatingCount():\n",
    "    a = []\n",
    "    gindices = []\n",
    "    gind = 0 # index\n",
    "    counter = 0 # number of violating sentences\n",
    "    for line in germanSens:\n",
    "        linelist = line.split()\n",
    "        flag = 'green'\n",
    "        for word in linelist:\n",
    "            if word.lower() not in german_words:\n",
    "                a.append(gind)\n",
    "                counter+=1\n",
    "                flag = 'red'\n",
    "                break\n",
    "        if flag == 'green':\n",
    "            gindices.append(gind)\n",
    "        gind+=1\n",
    "        if gind > max(indices):\n",
    "            break\n",
    "\n",
    "    print('Violating count:{}'.format(counter))"
   ]
  },
  {
   "cell_type": "code",
   "execution_count": 21,
   "metadata": {},
   "outputs": [
    {
     "data": {
      "text/plain": [
       "['der', 'und', 'die', 'in', 'von', 'im', 'des', 'den', 'kategorie', 'mit']"
      ]
     },
     "execution_count": 21,
     "metadata": {},
     "output_type": "execute_result"
    }
   ],
   "source": [
    "german_words[:10]"
   ]
  },
  {
   "cell_type": "code",
   "execution_count": 15,
   "metadata": {},
   "outputs": [
    {
     "name": "stdout",
     "output_type": "stream",
     "text": [
      "Violating count:100\n"
     ]
    }
   ],
   "source": [
    "giveViolatingCount()"
   ]
  },
  {
   "cell_type": "code",
   "execution_count": 16,
   "metadata": {},
   "outputs": [],
   "source": [
    "# a = pickle.load(open(f'subsampledGermanSens.pkl', 'rb'))\n",
    "# b = pickle.load(open(f'subsampledGermanSens2.pkl', 'rb'))\n",
    "c = pickle.load(open(f'subsampledEnglishSens.pkl', 'rb'))\n",
    "d = pickle.load(open(f'subsampledEnglishSens2.pkl', 'rb'))\n",
    "e = pickle.load(open(f'subsampledEnglishSens3.pkl', 'rb'))\n",
    "f = pickle.load(open(f'subsampledEnglishSens4.pkl', 'rb'))\n",
    "g = pickle.load(open(f'subsampledEnglishSens5.pkl', 'rb'))\n",
    "h = pickle.load(open(f'subsampledEnglishSens6.pkl', 'rb'))\n",
    "numchars = 0\n",
    "\n",
    "for i in range(100):\n",
    "    numchars+=( len(c[i]) + len(d[i] )+ len(e[i]) + len(f[i]) + len(g[i]) + len(h[i]))"
   ]
  },
  {
   "cell_type": "code",
   "execution_count": 17,
   "metadata": {},
   "outputs": [
    {
     "name": "stdout",
     "output_type": "stream",
     "text": [
      "Characters left: 423148\n"
     ]
    }
   ],
   "source": [
    "print('Characters left: {}'.format(500000 - numchars))"
   ]
  },
  {
   "cell_type": "code",
   "execution_count": null,
   "metadata": {},
   "outputs": [],
   "source": [
    "#469988\n",
    "#456047\n",
    "#428047\n",
    "##\n",
    "#423148"
   ]
  },
  {
   "cell_type": "markdown",
   "metadata": {},
   "source": [
    "Verifying Translations"
   ]
  },
  {
   "cell_type": "code",
   "execution_count": 18,
   "metadata": {},
   "outputs": [
    {
     "data": {
      "text/plain": [
       "'7 Again , it is written a eternal damnation ; wherefore it is more express than other scriptures , that it might work upon the hearts of the children of men , altogether for my name ’ s glory .\\n'"
      ]
     },
     "execution_count": 18,
     "metadata": {},
     "output_type": "execute_result"
    }
   ],
   "source": [
    "englishSens[7]"
   ]
  },
  {
   "cell_type": "code",
   "execution_count": 19,
   "metadata": {},
   "outputs": [
    {
     "data": {
      "text/plain": [
       "'7 Wiederum steht eine ewige Verdammnis geschrieben; darum ist es ausdrücklicher als in anderen Schriften, dass es auf die Herzen der Menschenkinder wirkt, insgesamt zur Ehre meines Namens.'"
      ]
     },
     "execution_count": 19,
     "metadata": {},
     "output_type": "execute_result"
    }
   ],
   "source": [
    "germanSens[7]"
   ]
  }
 ],
 "metadata": {
  "kernelspec": {
   "display_name": "Python 3",
   "language": "python",
   "name": "python3"
  },
  "language_info": {
   "codemirror_mode": {
    "name": "ipython",
    "version": 3
   },
   "file_extension": ".py",
   "mimetype": "text/x-python",
   "name": "python",
   "nbconvert_exporter": "python",
   "pygments_lexer": "ipython3",
   "version": "3.6.9"
  }
 },
 "nbformat": 4,
 "nbformat_minor": 4
}
