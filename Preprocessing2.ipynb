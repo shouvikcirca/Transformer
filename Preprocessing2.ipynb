{
 "cells": [
  {
   "cell_type": "code",
   "execution_count": 1,
   "metadata": {},
   "outputs": [],
   "source": [
    "import torch \n",
    "import torch.nn as nn\n",
    "# import fasttext as ft\n",
    "import math\n",
    "import bcolz\n",
    "import numpy as np\n",
    "import pickle"
   ]
  },
  {
   "cell_type": "code",
   "execution_count": 2,
   "metadata": {},
   "outputs": [],
   "source": [
    "english_words = pickle.load(open(f'english_words.pkl', 'rb'))"
   ]
  },
  {
   "cell_type": "markdown",
   "metadata": {},
   "source": [
    "Finding English Non Violating Sentences"
   ]
  },
  {
   "cell_type": "code",
   "execution_count": null,
   "metadata": {},
   "outputs": [],
   "source": [
    "def violates(line):\n",
    "    linelist = line.split()\n",
    "    for word in linelist:\n",
    "        if word.lower() not in english_words:\n",
    "            return True\n",
    "    return False"
   ]
  },
  {
   "cell_type": "code",
   "execution_count": null,
   "metadata": {},
   "outputs": [],
   "source": [
    "lic = pickle.load(open(f'lastindexchecked.pkl', 'rb'))\n",
    "lic"
   ]
  },
  {
   "cell_type": "code",
   "execution_count": null,
   "metadata": {},
   "outputs": [],
   "source": [
    "indices = []\n",
    "ind = 0\n",
    "count = 1\n",
    "englishSens = []\n",
    "with open('train.en','r') as f:\n",
    "    for line in f:\n",
    "        if ind >923:\n",
    "            if not violates(line):\n",
    "                indices.append(ind)\n",
    "                englishSens.append(line)\n",
    "                count+=1\n",
    "        \n",
    "        ind+=1\n",
    "        if count > 100:\n",
    "            break"
   ]
  },
  {
   "cell_type": "code",
   "execution_count": null,
   "metadata": {},
   "outputs": [],
   "source": [
    "lic = pickle.load(open(f'lastindexchecked.pkl', 'rb'))\n",
    "lic.append(max(indices))\n",
    "pickle.dump(lic, open(f'lastindexchecked.pkl', 'wb'))"
   ]
  },
  {
   "cell_type": "code",
   "execution_count": null,
   "metadata": {},
   "outputs": [],
   "source": [
    "lic = pickle.load(open(f'lastindexchecked.pkl', 'rb'))\n",
    "lic"
   ]
  },
  {
   "cell_type": "markdown",
   "metadata": {},
   "source": [
    "Cross Checking Violation"
   ]
  },
  {
   "cell_type": "code",
   "execution_count": null,
   "metadata": {},
   "outputs": [],
   "source": [
    "for i in englishSens:\n",
    "    l = i.split()\n",
    "    for j in l:\n",
    "        if j.lower() not in english_words:\n",
    "            print(j)"
   ]
  },
  {
   "cell_type": "markdown",
   "metadata": {},
   "source": [
    "Calling Google Translate API to get German translations"
   ]
  },
  {
   "cell_type": "code",
   "execution_count": null,
   "metadata": {},
   "outputs": [],
   "source": [
    "import os\n",
    "from google.cloud import translate\n",
    "\n",
    "os.environ['GOOGLE_APPLICATION_CREDENTIALS'] = \"/home/shouvik/Desktop/DeepLearning/miniproject/transformergooglecloudkey.json\"\n",
    "\n",
    "tc = translate.TranslationServiceClient()\n",
    "\n",
    "parent = tc.location_path('alphacreate-1123', 'global')\n",
    "\n",
    "target = 'de'\n",
    "\n",
    "output = tc.translate_text(\n",
    "    parent = parent,\n",
    "    contents = englishSens,\n",
    "    target_language_code=target,\n",
    "    \n",
    ")\n",
    "\n",
    "# print(output)"
   ]
  },
  {
   "cell_type": "code",
   "execution_count": null,
   "metadata": {},
   "outputs": [],
   "source": [
    "germanSens = []\n",
    "for translation in output.translations:\n",
    "#         print(u\"Translated text: {}\".format(translation.translated_text))\n",
    "    germanSens.append(translation.translated_text)"
   ]
  },
  {
   "cell_type": "code",
   "execution_count": null,
   "metadata": {},
   "outputs": [],
   "source": [
    "pickle.dump(englishSens, open(f'subsampledEnglishSens6.pkl', 'wb'))\n",
    "pickle.dump(germanSens, open(f'subsampledGermanSens6.pkl', 'wb'))"
   ]
  },
  {
   "cell_type": "markdown",
   "metadata": {},
   "source": [
    "Checking Violation in GermanSens"
   ]
  },
  {
   "cell_type": "code",
   "execution_count": null,
   "metadata": {},
   "outputs": [],
   "source": [
    "germanSens = pickle.load(open(f'subsampledGermanSens6.pkl', 'rb'))"
   ]
  },
  {
   "cell_type": "code",
   "execution_count": null,
   "metadata": {},
   "outputs": [],
   "source": [
    "german_words = pickle.load(open(f'german_words.pkl', 'rb'))"
   ]
  },
  {
   "cell_type": "code",
   "execution_count": null,
   "metadata": {},
   "outputs": [],
   "source": [
    "def giveViolatingCount():\n",
    "    a = []\n",
    "    gindices = []\n",
    "    gind = 0 # index\n",
    "    counter = 0 # number of violating sentences\n",
    "    for line in germanSens:\n",
    "        linelist = line.split()\n",
    "        flag = 'green'\n",
    "        for word in linelist:\n",
    "            if word.lower() not in german_words:\n",
    "                a.append(gind)\n",
    "                counter+=1\n",
    "                flag = 'red'\n",
    "                break\n",
    "        if flag == 'green':\n",
    "            gindices.append(gind)\n",
    "        gind+=1\n",
    "        if gind > max(indices):\n",
    "            break\n",
    "\n",
    "    print('Violating count:{}'.format(counter))"
   ]
  },
  {
   "cell_type": "code",
   "execution_count": null,
   "metadata": {},
   "outputs": [],
   "source": [
    "german_words[:10]"
   ]
  },
  {
   "cell_type": "code",
   "execution_count": null,
   "metadata": {},
   "outputs": [],
   "source": [
    "giveViolatingCount()"
   ]
  },
  {
   "cell_type": "code",
   "execution_count": null,
   "metadata": {},
   "outputs": [],
   "source": [
    "# a = pickle.load(open(f'subsampledGermanSens.pkl', 'rb'))\n",
    "# b = pickle.load(open(f'subsampledGermanSens2.pkl', 'rb'))\n",
    "c = pickle.load(open(f'subsampledEnglishSens.pkl', 'rb'))\n",
    "d = pickle.load(open(f'subsampledEnglishSens2.pkl', 'rb'))\n",
    "e = pickle.load(open(f'subsampledEnglishSens3.pkl', 'rb'))\n",
    "f = pickle.load(open(f'subsampledEnglishSens4.pkl', 'rb'))\n",
    "g = pickle.load(open(f'subsampledEnglishSens5.pkl', 'rb'))\n",
    "h = pickle.load(open(f'subsampledEnglishSens6.pkl', 'rb'))\n",
    "numchars = 0\n",
    "\n",
    "for i in range(100):\n",
    "    numchars+=( len(c[i]) + len(d[i] )+ len(e[i]) + len(f[i]) + len(g[i]) + len(h[i]))"
   ]
  },
  {
   "cell_type": "code",
   "execution_count": null,
   "metadata": {},
   "outputs": [],
   "source": [
    "print('Characters left: {}'.format(500000 - numchars))"
   ]
  },
  {
   "cell_type": "code",
   "execution_count": null,
   "metadata": {},
   "outputs": [],
   "source": [
    "#469988\n",
    "#456047\n",
    "#428047\n",
    "##\n",
    "#423148"
   ]
  },
  {
   "cell_type": "markdown",
   "metadata": {},
   "source": [
    "Verifying Translations"
   ]
  },
  {
   "cell_type": "code",
   "execution_count": null,
   "metadata": {},
   "outputs": [],
   "source": [
    "englishSens[7]"
   ]
  },
  {
   "cell_type": "code",
   "execution_count": null,
   "metadata": {},
   "outputs": [],
   "source": [
    "germanSens[7]"
   ]
  },
  {
   "cell_type": "markdown",
   "metadata": {},
   "source": [
    "Bert embeddings"
   ]
  },
  {
   "cell_type": "code",
   "execution_count": 11,
   "metadata": {},
   "outputs": [],
   "source": [
    "import pickle\n",
    "import transformers\n",
    "from bert_embedding import BertEmbedding\n",
    "import torch"
   ]
  },
  {
   "cell_type": "code",
   "execution_count": 10,
   "metadata": {},
   "outputs": [],
   "source": [
    "tokenizer = transformers.BertTokenizer.from_pretrained('bert-base-uncased')"
   ]
  },
  {
   "cell_type": "code",
   "execution_count": null,
   "metadata": {},
   "outputs": [],
   "source": [
    "# line = c[0]\n",
    "# print('Sentence: {}'.format(line))\n",
    "# print()\n",
    "# tokens = tokenizer.tokenize(line) \n",
    "# print('Tokens: {}'.format(tokens))\n",
    "# print()\n",
    "# token_ids = tokenizer.convert_tokens_to_ids(tokens)\n",
    "# print('TokenIDs: {}'.format(token_ids))\n",
    "    "
   ]
  },
  {
   "cell_type": "code",
   "execution_count": null,
   "metadata": {},
   "outputs": [],
   "source": [
    "# bert_embedding = BertEmbedding(model='bert_12_768_12', dataset_name='book_corpus_wiki_de_uncased')\n",
    "# result = bert_embedding(tokens)"
   ]
  },
  {
   "cell_type": "code",
   "execution_count": 8,
   "metadata": {},
   "outputs": [],
   "source": [
    "# tokenizer_de = transformers.AutoTokenizer.from_pretrained(\"bert-base-german-cased\")\n",
    "# model_de = transformers.AutoModelWithLMHead.from_pretrained(\"bert-base-german-cased\")"
   ]
  },
  {
   "cell_type": "code",
   "execution_count": 36,
   "metadata": {},
   "outputs": [
    {
     "data": {
      "application/vnd.jupyter.widget-view+json": {
       "model_id": "01d1087ddd144a44aa09e3c31b65a220",
       "version_major": 2,
       "version_minor": 0
      },
      "text/plain": [
       "HBox(children=(FloatProgress(value=0.0, description='Downloading', max=361.0, style=ProgressStyle(description_…"
      ]
     },
     "metadata": {},
     "output_type": "display_data"
    },
    {
     "name": "stdout",
     "output_type": "stream",
     "text": [
      "\n"
     ]
    },
    {
     "data": {
      "application/vnd.jupyter.widget-view+json": {
       "model_id": "6960d6ca3b3f453f861feb9e283b1943",
       "version_major": 2,
       "version_minor": 0
      },
      "text/plain": [
       "HBox(children=(FloatProgress(value=0.0, description='Downloading', max=247333.0, style=ProgressStyle(descripti…"
      ]
     },
     "metadata": {},
     "output_type": "display_data"
    },
    {
     "name": "stdout",
     "output_type": "stream",
     "text": [
      "\n"
     ]
    },
    {
     "data": {
      "application/vnd.jupyter.widget-view+json": {
       "model_id": "6a04324ed4cd4fd4a5b410634627bcac",
       "version_major": 2,
       "version_minor": 0
      },
      "text/plain": [
       "HBox(children=(FloatProgress(value=0.0, description='Downloading', max=59.0, style=ProgressStyle(description_w…"
      ]
     },
     "metadata": {},
     "output_type": "display_data"
    },
    {
     "name": "stdout",
     "output_type": "stream",
     "text": [
      "\n"
     ]
    },
    {
     "data": {
      "application/vnd.jupyter.widget-view+json": {
       "model_id": "d1ff853c4d934fe194781f6b79fa09ee",
       "version_major": 2,
       "version_minor": 0
      },
      "text/plain": [
       "HBox(children=(FloatProgress(value=0.0, description='Downloading', max=442256365.0, style=ProgressStyle(descri…"
      ]
     },
     "metadata": {},
     "output_type": "display_data"
    },
    {
     "name": "stdout",
     "output_type": "stream",
     "text": [
      "\n"
     ]
    }
   ],
   "source": [
    "# tokenizer_de_uc = transformers.AutoTokenizer.from_pretrained(\"dbmdz/bert-base-german-uncased\")\n",
    "# model_de_uc = transformers.AutoModelWithLMHead.from_pretrained(\"dbmdz/bert-base-german-uncased\")"
   ]
  },
  {
   "cell_type": "code",
   "execution_count": 9,
   "metadata": {},
   "outputs": [
    {
     "data": {
      "text/plain": [
       "'Eisenzement ist eine gebrauchsfertige Paste, die mit einem Spachtel oder Finger als Filet in die Formkanten (Ecken) der Stahlbarrenform gelegt wird.'"
      ]
     },
     "execution_count": 9,
     "metadata": {},
     "output_type": "execute_result"
    }
   ],
   "source": [
    "germanSens = pickle.load(open(f'subsampledGermanSens.pkl', 'rb'))\n",
    "germanSens[0]"
   ]
  },
  {
   "cell_type": "code",
   "execution_count": 12,
   "metadata": {},
   "outputs": [],
   "source": [
    "# tokenizer = BertTokenizer.from_pretrained('bert-base-uncased')\n",
    "# model = BertForPreTraining.from_pretrained('bert-base-uncased')\n",
    "input_ids = torch.tensor(tokenizer_de.encode(germanSens[0], add_special_tokens=True)).unsqueeze(0)  # Batch size 1\n",
    "outputs_de = model_de(input_ids)\n",
    "# prediction_scores, seq_relationship_scores = outputs[:2]"
   ]
  },
  {
   "cell_type": "code",
   "execution_count": 17,
   "metadata": {},
   "outputs": [
    {
     "data": {
      "text/plain": [
       "torch.Size([1, 42, 30000])"
      ]
     },
     "execution_count": 17,
     "metadata": {},
     "output_type": "execute_result"
    }
   ],
   "source": [
    "outputs_de[0].shape"
   ]
  },
  {
   "cell_type": "code",
   "execution_count": 18,
   "metadata": {},
   "outputs": [
    {
     "data": {
      "text/plain": [
       "'iron cement is a ready for use paste which is laid as a fillet by putty knife or finger in the mould edges ( corners ) of the steel ingot mould .'"
      ]
     },
     "execution_count": 18,
     "metadata": {},
     "output_type": "execute_result"
    }
   ],
   "source": [
    "englishSens = pickle.load(open(f'subsampledEnglishSens.pkl', 'rb'))\n",
    "englishSens[0]"
   ]
  },
  {
   "cell_type": "code",
   "execution_count": 20,
   "metadata": {},
   "outputs": [
    {
     "data": {
      "application/vnd.jupyter.widget-view+json": {
       "model_id": "4adaa60c4c964a4e8954193bde213cfe",
       "version_major": 2,
       "version_minor": 0
      },
      "text/plain": [
       "HBox(children=(FloatProgress(value=0.0, description='Downloading', max=361.0, style=ProgressStyle(description_…"
      ]
     },
     "metadata": {},
     "output_type": "display_data"
    },
    {
     "name": "stdout",
     "output_type": "stream",
     "text": [
      "\n"
     ]
    },
    {
     "data": {
      "application/vnd.jupyter.widget-view+json": {
       "model_id": "c07e8dcde2bd41f7bbb66dfea6812ff1",
       "version_major": 2,
       "version_minor": 0
      },
      "text/plain": [
       "HBox(children=(FloatProgress(value=0.0, description='Downloading', max=440473133.0, style=ProgressStyle(descri…"
      ]
     },
     "metadata": {},
     "output_type": "display_data"
    },
    {
     "name": "stdout",
     "output_type": "stream",
     "text": [
      "\n"
     ]
    }
   ],
   "source": [
    "# tokenizer_en = transformers.AutoTokenizer.from_pretrained('bert-base-uncased')\n",
    "# model_en = transformers.AutoModelWithLMHead.from_pretrained('bert-base-uncased')\n",
    "\n",
    "# input_ids = torch.tensor(tokenizer_en.encode(englishSens[0], add_special_tokens=True)).unsqueeze(0)  # Batch size 1\n",
    "# outputs_en = model_en(input_ids)"
   ]
  },
  {
   "cell_type": "code",
   "execution_count": 23,
   "metadata": {},
   "outputs": [
    {
     "data": {
      "text/plain": [
       "torch.Size([1, 39, 30522])"
      ]
     },
     "execution_count": 23,
     "metadata": {},
     "output_type": "execute_result"
    }
   ],
   "source": [
    "outputs_en[0].shape"
   ]
  },
  {
   "cell_type": "markdown",
   "metadata": {},
   "source": [
    "Word_Embeddings Of Sentences"
   ]
  },
  {
   "cell_type": "code",
   "execution_count": 26,
   "metadata": {},
   "outputs": [],
   "source": [
    "englishSens = []\n",
    "sentence_count = 0\n",
    "with open('train.en','r') as f:\n",
    "    for line in f:\n",
    "        englishSens.append(line)\n",
    "        sentence_count+=1\n",
    "        if sentence_count == 50:\n",
    "            break\n",
    "        "
   ]
  },
  {
   "cell_type": "code",
   "execution_count": null,
   "metadata": {},
   "outputs": [],
   "source": [
    "tokenizer_en = transformers.AutoTokenizer.from_pretrained('bert-base-uncased')\n",
    "model_en = transformers.AutoModelWithLMHead.from_pretrained('bert-base-uncased')"
   ]
  },
  {
   "cell_type": "code",
   "execution_count": 48,
   "metadata": {},
   "outputs": [],
   "source": [
    "eng_word_embeddings = []\n",
    "for i in englishSens:\n",
    "    input_ids = torch.tensor(tokenizer_en.encode(i, add_special_tokens=True)).unsqueeze(0)  # Batch size 1\n",
    "    outputs_en = model_en(input_ids)\n",
    "    eng_word_embeddings.append(outputs_en[0])\n",
    "    "
   ]
  },
  {
   "cell_type": "code",
   "execution_count": 56,
   "metadata": {},
   "outputs": [
    {
     "data": {
      "text/plain": [
       "(50, torch.Size([1, 39, 30522]))"
      ]
     },
     "execution_count": 56,
     "metadata": {},
     "output_type": "execute_result"
    }
   ],
   "source": [
    "len(eng_word_embeddings),eng_word_embeddings[0].shape"
   ]
  },
  {
   "cell_type": "code",
   "execution_count": 28,
   "metadata": {},
   "outputs": [],
   "source": [
    "germanSens = []\n",
    "sentence_count = 0\n",
    "with open('train.de','r') as f:\n",
    "    for line in f:\n",
    "        germanSens.append(line)\n",
    "        sentence_count+=1\n",
    "        if sentence_count == 50:\n",
    "            break\n",
    "        "
   ]
  },
  {
   "cell_type": "code",
   "execution_count": 54,
   "metadata": {},
   "outputs": [],
   "source": [
    "tokenizer_de_uc = transformers.AutoTokenizer.from_pretrained(\"dbmdz/bert-base-german-uncased\")\n",
    "model_de_uc = transformers.AutoModelWithLMHead.from_pretrained(\"dbmdz/bert-base-german-uncased\")"
   ]
  },
  {
   "cell_type": "code",
   "execution_count": 55,
   "metadata": {},
   "outputs": [],
   "source": [
    "de_word_embeddings = []\n",
    "for i in germanSens:\n",
    "    input_ids = torch.tensor(tokenizer_de_uc.encode(i, add_special_tokens=True)).unsqueeze(0)  # Batch size 1\n",
    "    outputs_de = model_de_uc(input_ids)\n",
    "    de_word_embeddings.append(outputs_de[0])"
   ]
  },
  {
   "cell_type": "code",
   "execution_count": 57,
   "metadata": {},
   "outputs": [
    {
     "data": {
      "text/plain": [
       "(50, torch.Size([1, 55, 31102]))"
      ]
     },
     "execution_count": 57,
     "metadata": {},
     "output_type": "execute_result"
    }
   ],
   "source": [
    "len(de_word_embeddings),de_word_embeddings[0].shape"
   ]
  }
 ],
 "metadata": {
  "kernelspec": {
   "display_name": "Python 3",
   "language": "python",
   "name": "python3"
  },
  "language_info": {
   "codemirror_mode": {
    "name": "ipython",
    "version": 3
   },
   "file_extension": ".py",
   "mimetype": "text/x-python",
   "name": "python",
   "nbconvert_exporter": "python",
   "pygments_lexer": "ipython3",
   "version": "3.6.9"
  }
 },
 "nbformat": 4,
 "nbformat_minor": 4
}
