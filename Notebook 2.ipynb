{
 "cells": [
  {
   "cell_type": "code",
   "execution_count": 1,
   "metadata": {},
   "outputs": [],
   "source": [
    "import torch \n",
    "import torch.nn as nn\n",
    "import fasttext as ft\n",
    "import math"
   ]
  },
  {
   "cell_type": "code",
   "execution_count": 12,
   "metadata": {},
   "outputs": [],
   "source": [
    "class SelfAttention():\n",
    "    def __init__(self, vectorRepresentations):\n",
    "        self.vectorRepresentations = vectorRepresentations\n",
    "        self.d_model = 10\n",
    "        self.new_dim = 5\n",
    "\n",
    "\n",
    "    def PositionalEncoding(self,wordVecs):\n",
    "        for pos in range(wordVecs.shape[0]):\n",
    "            for i in range(wordVecs[pos].shape[0]):\n",
    "                if i%2 == 0:\n",
    "                    wordVecs[pos][i] = wordVecs[pos][i] + math.sin(pos/(10000**(2*i/self.d_model)))\n",
    "                else:\n",
    "                    wordVecs[pos][i] = wordVecs[pos][i] + math.cos(pos/(10000**(2*i/self.d_model)))            \n",
    "        return wordVecs\n",
    "\n",
    "\n",
    "    def get_qkv_weights(self,r,c):\n",
    "        query_weights = torch.rand((r,c))\n",
    "        key_weights = torch.rand((r,c))\n",
    "        value_weights = torch.rand((r,c))\n",
    "        return query_weights, key_weights, value_weights\n",
    "    \n",
    "    \n",
    "    \n",
    "    def qkvs(self,vectorMatrix, new_dim):\n",
    "        query_weights, key_weights, value_weights = self.get_qkv_weights(self.d_model,new_dim)\n",
    "        return torch.matmul(vectorMatrix, query_weights), torch.matmul(vectorMatrix, key_weights), \\\n",
    "        torch.matmul(vectorMatrix, value_weights) \n",
    "        # Check for transposeness in matrix multiplication\n",
    "    \n",
    "    \n",
    "    def qk_dotproducts(self,queries, keys):\n",
    "        dotproduct_matrix = torch.Tensor([])\n",
    "        for i in queries:\n",
    "            dotproduct_vector = torch.Tensor([])\n",
    "            for j in keys:\n",
    "                dotproduct_vector = torch.cat([dotproduct_vector, torch.dot(i,j).reshape(-1)])\n",
    "            dotproduct_matrix = torch.cat([dotproduct_matrix, dotproduct_vector.reshape(1,-1)])\n",
    "        return dotproduct_matrix\n",
    "    \n",
    "    \n",
    "    def getSoftmaxed_qkdp(self,qk_dotproductmatrix):\n",
    "        sm = nn.Softmax(dim = 0)\n",
    "        sm_matrix = torch.tensor([])\n",
    "        for i in qk_dotproductmatrix:\n",
    "            sm_matrix = torch.cat([sm_matrix, sm(i).reshape(1,-1)])\n",
    "        return sm_matrix\n",
    "    \n",
    "    \n",
    "    def getSoftmaxWeightedValues(self,softmaxed_qkdp, values):\n",
    "        dim2_mat = torch.tensor([])\n",
    "        dim3_mat = torch.tensor([])\n",
    "        outer_loop_range = softmaxed_qkdp.shape[0]\n",
    "        inner_loop_range = values.shape[0]\n",
    "        for i in range(outer_loop_range):\n",
    "            for j in range(inner_loop_range):\n",
    "                dim2_mat = torch.cat([dim2_mat, (softmaxed_qkdp[i][j]*values[j]).reshape(-1)])\n",
    "            dim3_mat = torch.cat([dim3_mat, dim2_mat.reshape(1,values.shape[0],values.shape[1])])\n",
    "            dim2_mat = torch.tensor([]) \n",
    "        return dim3_mat\n",
    "    \n",
    "    \n",
    "    \n",
    "    def getWeightedSum(self,softmax_weighted_values):\n",
    "        next_layer_input = torch.tensor([])\n",
    "        for i in softmax_weighted_values:\n",
    "            transposed_i = i.t()\n",
    "            new_word_representation = torch.tensor([])\n",
    "            for j in transposed_i:\n",
    "                rowsum = j.sum()\n",
    "                new_word_representation = torch.cat([new_word_representation, rowsum.reshape(-1)])\n",
    "            next_layer_input = \\\n",
    "            torch.cat([next_layer_input, new_word_representation.reshape(1,new_word_representation.shape[0])])    \n",
    "        return next_layer_input\n",
    "        \n",
    "    \n",
    "    \n",
    "    def returnRepresentation(self):\n",
    "        pos_encoded = self.PositionalEncoding(self.vectorRepresentations)\n",
    "        new_dim = self.new_dim\n",
    "        queries, keys, values = self.qkvs(pos_encoded, new_dim)\n",
    "        qk_dotproductmatrix = self.qk_dotproducts(queries, keys)\n",
    "        d_k = keys.shape[1] # to be changed later to square root of 'key' vector dimension\n",
    "        qk_dotproductmatrix/=d_k\n",
    "        softmaxed_qkdp = self.getSoftmaxed_qkdp(qk_dotproductmatrix)\n",
    "        softmax_weighted_values = self.getSoftmaxWeightedValues(softmaxed_qkdp, values)\n",
    "        weightedSum = self.getWeightedSum(softmax_weighted_values)\n",
    "        return weightedSum                                           \n"
   ]
  },
  {
   "cell_type": "code",
   "execution_count": 3,
   "metadata": {},
   "outputs": [],
   "source": [
    "def getWordVectors(sentence):\n",
    "    sentence = sentence.split(' ')\n",
    "    vecs = torch.rand((len(sentence),10))\n",
    "    return vecs"
   ]
  },
  {
   "cell_type": "code",
   "execution_count": null,
   "metadata": {},
   "outputs": [],
   "source": [
    "wordVecs = getWordVectors('Hi there this is nuts')"
   ]
  },
  {
   "cell_type": "code",
   "execution_count": 20,
   "metadata": {},
   "outputs": [
    {
     "data": {
      "text/plain": [
       "tensor([[ 7.3796, 18.2257, 19.7130, 10.8871, 12.8552],\n",
       "        [ 7.3796, 18.2258, 19.7130, 10.8872, 12.8552],\n",
       "        [ 7.3796, 18.2258, 19.7130, 10.8872, 12.8552],\n",
       "        [ 7.3796, 18.2258, 19.7130, 10.8871, 12.8552],\n",
       "        [ 7.3796, 18.2257, 19.7130, 10.8871, 12.8552]])"
      ]
     },
     "execution_count": 20,
     "metadata": {},
     "output_type": "execute_result"
    }
   ],
   "source": [
    "a = SelfAttention(wordVecs)\n",
    "a.returnRepresentation()"
   ]
  }
 ],
 "metadata": {
  "kernelspec": {
   "display_name": "Python 3",
   "language": "python",
   "name": "python3"
  },
  "language_info": {
   "codemirror_mode": {
    "name": "ipython",
    "version": 3
   },
   "file_extension": ".py",
   "mimetype": "text/x-python",
   "name": "python",
   "nbconvert_exporter": "python",
   "pygments_lexer": "ipython3",
   "version": "3.6.9"
  }
 },
 "nbformat": 4,
 "nbformat_minor": 4
}
